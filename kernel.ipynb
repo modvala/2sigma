{
 "cells": [
  {
   "cell_type": "code",
   "execution_count": 1,
   "metadata": {},
   "outputs": [],
   "source": [
    "import pandas as pd\n",
    "%load_ext autoreload\n",
    "%autoreload 2"
   ]
  },
  {
   "cell_type": "code",
   "execution_count": 2,
   "metadata": {
    "_cell_guid": "b1076dfc-b9ad-4769-8c92-a6c4dae69d19",
    "_uuid": "8f2839f25d086af736a60e9eeb907d3b93b6e0e5"
   },
   "outputs": [],
   "source": [
    "import gc\n",
    "from sklearn.model_selection import train_test_split\n",
    "from lightgbm import LGBMClassifier\n",
    "import numpy as np"
   ]
  },
  {
   "cell_type": "code",
   "execution_count": 3,
   "metadata": {},
   "outputs": [],
   "source": [
    "LOCAL = True\n",
    "TEST = False"
   ]
  },
  {
   "cell_type": "code",
   "execution_count": 13,
   "metadata": {
    "_cell_guid": "b1076dfc-b9ad-4769-8c92-a6c4dae69d19",
    "_uuid": "8f2839f25d086af736a60e9eeb907d3b93b6e0e5"
   },
   "outputs": [],
   "source": [
    "if LOCAL:\n",
    "    import sys\n",
    "    sys.path.append('./utils/*.*')\n",
    "    from utils.preprocess import *\n",
    "    from utils.model import *\n",
    "    market_train_df = pd.read_csv('./data/marketdata_sample.csv')\n",
    "    news_train = pd.read_csv('./data/news_sample.csv')\n",
    "    market_train_df['time'] = pd.to_datetime(market_train_df.time)\n",
    "    news_train['time'] = pd.to_datetime(news_train.time)\n",
    "else:\n",
    "    import sys\n",
    "    sys.path.append('../input/title-111/repository/modvala-2sigma-43ff6da/utils/*.*')\n",
    "    from kaggle.competitions import twosigmanews\n",
    "    from preprocess import *\n",
    "    from model import *\n",
    "    env = twosigmanews.make_env()\n",
    "    market_train_df, news_train = env.get_training_data()\n",
    "    market_train_df['time'] = pd.to_datetime(market_train_df.time)\n",
    "    news_train['time'] = pd.to_datetime(news_train.time)"
   ]
  },
  {
   "cell_type": "code",
   "execution_count": null,
   "metadata": {},
   "outputs": [],
   "source": [
    "if TEST:\n",
    "    market_train_df = market_train_df.sample(100000)"
   ]
  },
  {
   "cell_type": "code",
   "execution_count": 6,
   "metadata": {
    "_cell_guid": "b1076dfc-b9ad-4769-8c92-a6c4dae69d19",
    "_uuid": "8f2839f25d086af736a60e9eeb907d3b93b6e0e5"
   },
   "outputs": [],
   "source": [
    "start = 2009\n",
    "market_train = market_train_df.loc[market_train_df['time'].dt.year>= start].reset_index(drop=True)\n",
    "news_train = news_train.loc[news_train['time'].dt.year >= start].reset_index(drop=True)"
   ]
  },
  {
   "cell_type": "code",
   "execution_count": null,
   "metadata": {},
   "outputs": [],
   "source": [
    "news_agg = prenews(news_train, TEST)\n",
    "df = predata(news_agg, market_train, TEST)"
   ]
  },
  {
   "cell_type": "code",
   "execution_count": null,
   "metadata": {
    "_cell_guid": "b1076dfc-b9ad-4769-8c92-a6c4dae69d19",
    "_uuid": "8f2839f25d086af736a60e9eeb907d3b93b6e0e5"
   },
   "outputs": [],
   "source": [
    "date = df.date\n",
    "num_target = df.returnsOpenNextMktres10.astype('float32')\n",
    "bin_target = (df.returnsOpenNextMktres10 >= 0).astype('int8')\n",
    "universe = df.universe.astype('int8')\n",
    "# Drop columns that are not features\n",
    "df.drop(['returnsOpenNextMktres10', 'date', 'universe', 'assetCode', 'assetName', 'time'], \n",
    "        axis=1, inplace=True)\n",
    "df = df.astype('float32')  # Set all remaining columns to float32 datatype\n",
    "gc.collect()"
   ]
  },
  {
   "cell_type": "code",
   "execution_count": 11,
   "metadata": {
    "_cell_guid": "b1076dfc-b9ad-4769-8c92-a6c4dae69d19",
    "_uuid": "8f2839f25d086af736a60e9eeb907d3b93b6e0e5"
   },
   "outputs": [
    {
     "ename": "NameError",
     "evalue": "name 'df' is not defined",
     "output_type": "error",
     "traceback": [
      "\u001b[0;31m---------------------------------------------------------------------------\u001b[0m",
      "\u001b[0;31mNameError\u001b[0m                                 Traceback (most recent call last)",
      "\u001b[0;32m<ipython-input-11-46acb566af71>\u001b[0m in \u001b[0;36m<module>\u001b[0;34m\u001b[0m\n\u001b[0;32m----> 1\u001b[0;31m \u001b[0mdate\u001b[0m \u001b[0;34m=\u001b[0m \u001b[0mdf\u001b[0m\u001b[0;34m.\u001b[0m\u001b[0mdate\u001b[0m\u001b[0;34m\u001b[0m\u001b[0m\n\u001b[0m\u001b[1;32m      2\u001b[0m \u001b[0mnum_target\u001b[0m \u001b[0;34m=\u001b[0m \u001b[0mdf\u001b[0m\u001b[0;34m.\u001b[0m\u001b[0mreturnsOpenNextMktres10\u001b[0m\u001b[0;34m.\u001b[0m\u001b[0mastype\u001b[0m\u001b[0;34m(\u001b[0m\u001b[0;34m'float32'\u001b[0m\u001b[0;34m)\u001b[0m\u001b[0;34m\u001b[0m\u001b[0m\n\u001b[1;32m      3\u001b[0m \u001b[0mbin_target\u001b[0m \u001b[0;34m=\u001b[0m \u001b[0;34m(\u001b[0m\u001b[0mdf\u001b[0m\u001b[0;34m.\u001b[0m\u001b[0mreturnsOpenNextMktres10\u001b[0m \u001b[0;34m>=\u001b[0m \u001b[0;36m0\u001b[0m\u001b[0;34m)\u001b[0m\u001b[0;34m.\u001b[0m\u001b[0mastype\u001b[0m\u001b[0;34m(\u001b[0m\u001b[0;34m'int8'\u001b[0m\u001b[0;34m)\u001b[0m\u001b[0;34m\u001b[0m\u001b[0m\n\u001b[1;32m      4\u001b[0m \u001b[0muniverse\u001b[0m \u001b[0;34m=\u001b[0m \u001b[0mdf\u001b[0m\u001b[0;34m.\u001b[0m\u001b[0muniverse\u001b[0m\u001b[0;34m.\u001b[0m\u001b[0mastype\u001b[0m\u001b[0;34m(\u001b[0m\u001b[0;34m'int8'\u001b[0m\u001b[0;34m)\u001b[0m\u001b[0;34m\u001b[0m\u001b[0m\n\u001b[1;32m      5\u001b[0m \u001b[0;31m# Drop columns that are not features\u001b[0m\u001b[0;34m\u001b[0m\u001b[0;34m\u001b[0m\u001b[0m\n",
      "\u001b[0;31mNameError\u001b[0m: name 'df' is not defined"
     ]
    }
   ],
   "source": [
    "train_index, test_index = train_test_split(df.index.values, test_size=0.1)"
   ]
  },
  {
   "cell_type": "code",
   "execution_count": null,
   "metadata": {
    "_cell_guid": "b1076dfc-b9ad-4769-8c92-a6c4dae69d19",
    "_uuid": "8f2839f25d086af736a60e9eeb907d3b93b6e0e5"
   },
   "outputs": [],
   "source": [
    "param_grid = {\n",
    "    'learning_rate': [0.05, 0.02, 0.01],\n",
    "    'num_leaves': [25, 38, 63],\n",
    "    'n_estimators': [100, 200, 400],\n",
    "    'min_child_samples': [5, 10, 20, 40, 100],\n",
    "    'colsample_bytree': [0.8, 0.9, 1],\n",
    "    'subsample': [0.8, 0.9, 1],\n",
    "    'reg_alpha': [0.1, 0.2, 0.4, 0.6, 0.8],\n",
    "    'reg_lambda': [0.1, 0.2, 0.4, 0.6, 0.8],\n",
    "}"
   ]
  },
  {
   "cell_type": "code",
   "execution_count": null,
   "metadata": {
    "_cell_guid": "b1076dfc-b9ad-4769-8c92-a6c4dae69d19",
    "_uuid": "8f2839f25d086af736a60e9eeb907d3b93b6e0e5"
   },
   "outputs": [],
   "source": [
    "best_eval_score = 0\n",
    "for i in range(50):\n",
    "    params = {k: np.random.choice(v) for k, v in param_grid.items()}\n",
    "    score = evaluate_model(df, bin_target, train_index, test_index, params)\n",
    "    if score < best_eval_score or best_eval_score == 0:\n",
    "        best_eval_score = score\n",
    "        best_params = params\n",
    "    print(best_eval_score)\n",
    "print(\"Best evaluation logloss\", best_eval_score)"
   ]
  },
  {
   "cell_type": "code",
   "execution_count": null,
   "metadata": {
    "_cell_guid": "b1076dfc-b9ad-4769-8c92-a6c4dae69d19",
    "_uuid": "8f2839f25d086af736a60e9eeb907d3b93b6e0e5"
   },
   "outputs": [],
   "source": [
    "# Train model with full data\n",
    "clf = LGBMClassifier(**best_params)\n",
    "clf.fit(df, bin_target)\n",
    "\n",
    "test_df_columns = ['time', 'assetCode', 'assetName', 'volume', 'close', 'open',\n",
    "                   'returnsClosePrevRaw1', 'returnsOpenPrevRaw1',\n",
    "                   'returnsClosePrevMktres1', 'returnsOpenPrevMktres1',\n",
    "                   'returnsClosePrevRaw10', 'returnsOpenPrevRaw10',\n",
    "                   'returnsClosePrevMktres10', 'returnsOpenPrevMktres10']\n",
    "base_df = market_train_df[market_train_df['time'].dt.year >= 2016]\n",
    "base_df = base_df[test_df_columns]\n",
    "base_df['id'] = -1\n",
    "base_df.shape"
   ]
  },
  {
   "cell_type": "code",
   "execution_count": null,
   "metadata": {},
   "outputs": [],
   "source": [
    "TEST=False"
   ]
  },
  {
   "cell_type": "code",
   "execution_count": null,
   "metadata": {
    "_cell_guid": "b1076dfc-b9ad-4769-8c92-a6c4dae69d19",
    "_uuid": "8f2839f25d086af736a60e9eeb907d3b93b6e0e5"
   },
   "outputs": [],
   "source": [
    "def write_submission(model, env):\n",
    "    days = env.get_prediction_days()\n",
    "    day_id = 0\n",
    "    market_obs_df_append = None\n",
    "    for (market_obs_df, news_obs_df, predictions_template_df) in days:\n",
    "        news_agg = prenews(news_obs_df, TEST)\n",
    "        \n",
    "        market_obs_df['id'] = day_id\n",
    "        if market_obs_df_append is None:\n",
    "            market_obs_df_append = base_df\n",
    "            \n",
    "        market_obs_df_append = pd.concat([market_obs_df_append,market_obs_df],\n",
    "                                         ignore_index=True,\n",
    "                                         sort=False)\n",
    "        ods_df = predata(news_agg, market_obs_df_append, TEST)\n",
    " \n",
    "        obs_df = obs_df[obs_df.assetCode.isin(predictions_template_df.assetCode)]\n",
    "        # Drop cols that are not features\n",
    "        feats = [c for c in obs_df.columns if c not in ['date', 'assetCode', 'assetName', 'time', 'id']]\n",
    "\n",
    "        preds = model.predict_proba(obs_df[feats])[:, 1] * 2 - 1\n",
    "        sub = pd.DataFrame({'assetCode': obs_df['assetCode'], 'confidence': preds})\n",
    "        predictions_template_df = predictions_template_df.merge(sub, how='left').drop(\n",
    "            'confidenceValue', axis=1).fillna(0).rename(columns={'confidence':'confidenceValue'})\n",
    "        \n",
    "        env.predict(predictions_template_df)\n",
    "        if day_id == 59:\n",
    "            market_obs_df_append.drop(\n",
    "                market_obs_df_append.index[market_obs_df_append['id']==-1],\n",
    "                inplace=True)\n",
    "        elif day_id >= 60:\n",
    "            market_obs_df_append.drop(\n",
    "                market_obs_df_append.index[market_obs_df_append['id']==day_id-60],\n",
    "                inplace=True)\n",
    "        day_id += 1\n",
    "        del obs_df, predictions_template_df, preds, sub\n",
    "        gc.collect()\n",
    "    env.write_submission_file()\n",
    "    print('day_count',day_id)\n",
    "\n",
    "write_submission(clf, env)\n",
    "\n",
    "feat_importance = pd.DataFrame()\n",
    "feat_importance[\"feature\"] = df.columns\n",
    "feat_importance[\"gain\"] = clf.booster_.feature_importance(importance_type='gain')\n",
    "feat_importance.sort_values(by='gain', ascending=False, inplace=True)\n",
    "plt.figure(figsize=(8,10))\n",
    "ax = sns.barplot(y=\"feature\", x=\"gain\", data=feat_importance)"
   ]
  }
 ],
 "metadata": {
  "kernelspec": {
   "display_name": "Python 3",
   "language": "python",
   "name": "python3"
  },
  "language_info": {
   "codemirror_mode": {
    "name": "ipython",
    "version": 3
   },
   "file_extension": ".py",
   "mimetype": "text/x-python",
   "name": "python",
   "nbconvert_exporter": "python",
   "pygments_lexer": "ipython3",
   "version": "3.6.5"
  }
 },
 "nbformat": 4,
 "nbformat_minor": 1
}
